{
 "cells": [
  {
   "cell_type": "code",
   "execution_count": 1,
   "metadata": {
    "collapsed": true
   },
   "outputs": [],
   "source": [
    "from bs4 import BeautifulSoup"
   ]
  },
  {
   "cell_type": "code",
   "execution_count": 2,
   "metadata": {},
   "outputs": [
    {
     "name": "stderr",
     "output_type": "stream",
     "text": [
      "/anaconda2/lib/python2.7/site-packages/bs4/__init__.py:181: UserWarning: No parser was explicitly specified, so I'm using the best available HTML parser for this system (\"lxml\"). This usually isn't a problem, but if you run this code on another system, or in a different virtual environment, it may use a different parser and behave differently.\n",
      "\n",
      "The code that caused this warning is on line 174 of the file /anaconda2/lib/python2.7/runpy.py. To get rid of this warning, change code that looks like this:\n",
      "\n",
      " BeautifulSoup(YOUR_MARKUP})\n",
      "\n",
      "to this:\n",
      "\n",
      " BeautifulSoup(YOUR_MARKUP, \"lxml\")\n",
      "\n",
      "  markup_type=markup_type))\n"
     ]
    }
   ],
   "source": [
    "soup = BeautifulSoup('<b body=\"description\"\">Product Description</b>', 'html') ## Represent html markup\n",
    "# Beautiful soup object"
   ]
  },
  {
   "cell_type": "code",
   "execution_count": 3,
   "metadata": {},
   "outputs": [
    {
     "data": {
      "text/plain": [
       "<b body=\"description\">Product Description</b>"
      ]
     },
     "execution_count": 3,
     "metadata": {},
     "output_type": "execute_result"
    }
   ],
   "source": [
    "## Navigable String object\n",
    "\n",
    "tag = soup.b\n",
    "tag"
   ]
  },
  {
   "cell_type": "code",
   "execution_count": 4,
   "metadata": {},
   "outputs": [
    {
     "data": {
      "text/plain": [
       "'b'"
      ]
     },
     "execution_count": 4,
     "metadata": {},
     "output_type": "execute_result"
    }
   ],
   "source": [
    "tag.name"
   ]
  },
  {
   "cell_type": "code",
   "execution_count": 16,
   "metadata": {},
   "outputs": [],
   "source": [
    "## Isolate a string from within this tag object\n",
    "nav_string = tag.string\n",
    "\n",
    "## String inside the 'b' tag"
   ]
  },
  {
   "cell_type": "code",
   "execution_count": 17,
   "metadata": {},
   "outputs": [
    {
     "data": {
      "text/plain": [
       "bs4.element.NavigableString"
      ]
     },
     "execution_count": 17,
     "metadata": {},
     "output_type": "execute_result"
    }
   ],
   "source": [
    "type(tag.string)"
   ]
  },
  {
   "cell_type": "code",
   "execution_count": 18,
   "metadata": {},
   "outputs": [
    {
     "data": {
      "text/plain": [
       "u'Adhira'"
      ]
     },
     "execution_count": 18,
     "metadata": {},
     "output_type": "execute_result"
    }
   ],
   "source": [
    "## Replace type\n",
    "\n",
    "nav_string.replace_with('Adhira')\n",
    "tag.string"
   ]
  },
  {
   "cell_type": "code",
   "execution_count": 19,
   "metadata": {
    "collapsed": true
   },
   "outputs": [],
   "source": [
    "## Working with navigable string objects\n",
    "\n",
    "html_doc = '''\n",
    "<html><head><title>Best Books</title></head>\n",
    "<body>\n",
    "<p class='title'><b>DATA SCIENCE FOR DUMMIES</b></p>\n",
    "\n",
    "<p class='description'>Jobs in data science abound, but few people have the data science skills needed to fill these increasingly important roles in organizations. Data Science For Dummies is the pe\n",
    "<br><br>\n",
    "Edition 1 of this book:\n",
    "        <br>\n",
    " <ul>\n",
    "  <li>Provides a background in data science fundamentals before moving on to working with relational databases and unstructured data and preparing your data for analysis</li>\n",
    "  <li>Details different data visualization techniques that can be used to showcase and summarize your data</li>\n",
    "  <li>Explains both supervised and unsupervised machine learning, including regression, model validation, and clustering techniques</li>\n",
    "  <li>Includes coverage of big data processing tools like MapReduce, Hadoop, Storm, and Spark</li>   \n",
    "  </ul>\n",
    "<br><br>\n",
    "What to do next:\n",
    "<br>\n",
    "<a href='http://www.data-mania.com/blog/books-by-lillian-pierson/' class = 'preview' id='link 1'>See a preview of the book</a>,\n",
    "<a href='http://www.data-mania.com/blog/data-science-for-dummies-answers-what-is-data-science/' class = 'preview' id='link 2'>get the free pdf download,</a> and then\n",
    "<a href='http://bit.ly/Data-Science-For-Dummies' class = 'preview' id='link 3'>buy the book!</a> \n",
    "</p>\n",
    "\n",
    "<p class='description'>...</p>\n",
    "'''\n",
    "\n",
    "soup = BeautifulSoup(html_doc, 'html.parser')"
   ]
  },
  {
   "cell_type": "code",
   "execution_count": 21,
   "metadata": {},
   "outputs": [
    {
     "name": "stdout",
     "output_type": "stream",
     "text": [
      "u'Best Books'\n",
      "u'DATA SCIENCE FOR DUMMIES'\n",
      "u'Jobs in data science abound, but few people have the data science skills needed to fill these increasingly important roles in organizations. Data Science For Dummies is the pe'\n",
      "u'Edition 1 of this book:'\n",
      "u'Provides a background in data science fundamentals before moving on to working with relational databases and unstructured data and preparing your data for analysis'\n",
      "u'Details different data visualization techniques that can be used to showcase and summarize your data'\n",
      "u'Explains both supervised and unsupervised machine learning, including regression, model validation, and clustering techniques'\n",
      "u'Includes coverage of big data processing tools like MapReduce, Hadoop, Storm, and Spark'\n",
      "u'What to do next:'\n",
      "u'See a preview of the book'\n",
      "u','\n",
      "u'get the free pdf download,'\n",
      "u'and then'\n",
      "u'buy the book!'\n",
      "u'...'\n"
     ]
    }
   ],
   "source": [
    "### To obtain all the strings in the object\n",
    "\n",
    "for string in soup.stripped_strings:print(repr(string))"
   ]
  },
  {
   "cell_type": "code",
   "execution_count": 28,
   "metadata": {},
   "outputs": [
    {
     "name": "stdout",
     "output_type": "stream",
     "text": [
      "<title>Best Books</title>\n",
      "<head><title>Best Books</title></head>\n"
     ]
    }
   ],
   "source": [
    "## Access parent tag object within a parsed tree\n",
    "\n",
    "title_tag = soup.title\n",
    "print title_tag\n",
    "print title_tag.parent\n",
    "## gives head tag"
   ]
  },
  {
   "cell_type": "code",
   "execution_count": 29,
   "metadata": {},
   "outputs": [
    {
     "data": {
      "text/plain": [
       "u'Best Books'"
      ]
     },
     "execution_count": 29,
     "metadata": {},
     "output_type": "execute_result"
    }
   ],
   "source": [
    "title_tag.string"
   ]
  },
  {
   "cell_type": "code",
   "execution_count": 30,
   "metadata": {},
   "outputs": [
    {
     "data": {
      "text/plain": [
       "<title>Best Books</title>"
      ]
     },
     "execution_count": 30,
     "metadata": {},
     "output_type": "execute_result"
    }
   ],
   "source": [
    "title_tag.string.parent"
   ]
  },
  {
   "cell_type": "code",
   "execution_count": null,
   "metadata": {
    "collapsed": true
   },
   "outputs": [],
   "source": []
  }
 ],
 "metadata": {
  "kernelspec": {
   "display_name": "Python 2",
   "language": "python",
   "name": "python2"
  },
  "language_info": {
   "codemirror_mode": {
    "name": "ipython",
    "version": 2
   },
   "file_extension": ".py",
   "mimetype": "text/x-python",
   "name": "python",
   "nbconvert_exporter": "python",
   "pygments_lexer": "ipython2",
   "version": "2.7.13"
  }
 },
 "nbformat": 4,
 "nbformat_minor": 2
}
